{
 "cells": [
  {
   "cell_type": "code",
   "execution_count": 1,
   "metadata": {},
   "outputs": [
    {
     "name": "stdout",
     "output_type": "stream",
     "text": [
      "finished importing modules...\n",
      "finished parsing config...\n",
      "finished authorization...\n",
      "spotify object created!\n"
     ]
    }
   ],
   "source": [
    "from SpotifyClient import spotify\n",
    "from SpotifyObjects import *"
   ]
  },
  {
   "cell_type": "code",
   "execution_count": 2,
   "metadata": {},
   "outputs": [
    {
     "data": {
      "text/plain": [
       "[Word 4 Word by Moneybagg Yo,\n",
       " Kill A Word by Eric Church,\n",
       " I Won't Give Up by Jason Mraz,\n",
       " Word On The Street by Lil Baby,\n",
       " Word Up by Cameo,\n",
       " RISE by League of Legends,The Glitch Mob,Mako,The Word Alive,\n",
       " Rollout (My Business) by Ludacris,\n",
       " Word Up! by Korn,\n",
       " Shadrach - Mum's The Word Remix by Beastie Boys and Mum's The Word,\n",
       " Candy by Cameo]"
      ]
     },
     "execution_count": 2,
     "metadata": {},
     "output_type": "execute_result"
    }
   ],
   "source": [
    "tracks = spotify.getTracks(\"word\")\n",
    "tracks"
   ]
  },
  {
   "cell_type": "code",
   "execution_count": 6,
   "metadata": {},
   "outputs": [],
   "source": [
    "def sentence_to_playlist(sentence, limit = 10):\n",
    "    for word in sentence.split(' '):\n",
    "        tracks = spotify.getTracks(sentence)\n",
    "        print(tracks)"
   ]
  },
  {
   "cell_type": "code",
   "execution_count": 7,
   "metadata": {},
   "outputs": [
    {
     "name": "stdout",
     "output_type": "stream",
     "text": [
      "[Hello, World by Louie Zong, Clattanoia by OxT, Hello World by Lady Antebellum, Hello,world! by BUMP OF CHICKEN, Hello World by Kid Ink, GO CRY GO by OxT, Summertime by K-391, Hello Cruel World by Dent May, Top of the World by Bridgit Mendler, Hello Cold World by Paramore]\n",
      "[Hello, World by Louie Zong, Clattanoia by OxT, Hello World by Lady Antebellum, Hello,world! by BUMP OF CHICKEN, Hello World by Kid Ink, GO CRY GO by OxT, Summertime by K-391, Hello Cruel World by Dent May, Top of the World by Bridgit Mendler, Hello Cold World by Paramore]\n"
     ]
    }
   ],
   "source": [
    "sentence_to_playlist(\"hello world\")"
   ]
  },
  {
   "cell_type": "code",
   "execution_count": null,
   "metadata": {},
   "outputs": [],
   "source": []
  }
 ],
 "metadata": {
  "kernelspec": {
   "display_name": "Python 3",
   "language": "python",
   "name": "python3"
  },
  "language_info": {
   "codemirror_mode": {
    "name": "ipython",
    "version": 3
   },
   "file_extension": ".py",
   "mimetype": "text/x-python",
   "name": "python",
   "nbconvert_exporter": "python",
   "pygments_lexer": "ipython3",
   "version": "3.6.8"
  }
 },
 "nbformat": 4,
 "nbformat_minor": 2
}
